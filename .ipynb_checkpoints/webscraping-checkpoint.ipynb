{
 "cells": [
  {
   "cell_type": "markdown",
   "metadata": {},
   "source": [
    "###### Trabajo relaizado en google colab , aprovechando su rapidez a la hora de ejecutar los codigos  de el webscrapeo"
   ]
  },
  {
   "cell_type": "code",
   "execution_count": null,
   "metadata": {
    "collapsed": true
   },
   "outputs": [],
   "source": [
    "# !pip install google.colab "
   ]
  },
  {
   "cell_type": "code",
   "execution_count": null,
   "metadata": {
    "collapsed": true
   },
   "outputs": [],
   "source": [
    "from google.colab import drive  #importamos esta libreria que conecta el drive con el colab"
   ]
  },
  {
   "cell_type": "markdown",
   "metadata": {},
   "source": [
    "El siguiente codigo es una especie  de permiso de acceder a nuestro drive para que haga uso de nuestros archivos\n",
    "pasos para acceder al drive  \n",
    "1-AL correr el codigo aparecera una ventana donde espera que coloquemos un permiso para continuar \n",
    "2 darle click al enlace que aparece \n",
    "3-selecionar la direcion de correo electronico que se usara para acceder al drive \n",
    "4-automaticamente nos saldra un enlace copiar y pegar en la ventana que aparece cuando corrimos el codigo\n"
   ]
  },
  {
   "cell_type": "code",
   "execution_count": null,
   "metadata": {
    "collapsed": true
   },
   "outputs": [],
   "source": [
    "drive.mount('/content/drive')  "
   ]
  },
  {
   "cell_type": "code",
   "execution_count": null,
   "metadata": {
    "collapsed": true
   },
   "outputs": [],
   "source": [
    "from bs4 import BeautifulSoup #importamos la libreria que nos ayudara con la extraccion de datos de la pagina unitprotein\n",
    "import requests \n",
    "import pandas as pd #para el manejo de data frame\n",
    "import numpy as np \n",
    "from tqdm.notebook import tqdm_notebook as tqdm #importamos esta libreria nueva para medir,validar el rrecorrido de la extraccion "
   ]
  },
  {
   "cell_type": "code",
   "execution_count": null,
   "metadata": {
    "collapsed": true
   },
   "outputs": [],
   "source": [
    "ruta='/content/drive/MyDrive/webs/Genes identificados con vecinos.xlsx' #leo el archivo donde estan todos los genees"
   ]
  },
  {
   "cell_type": "code",
   "execution_count": null,
   "metadata": {
    "collapsed": true
   },
   "outputs": [],
   "source": [
    "#lee todas las hojas del excel que colocamos en un data frame por separado\n",
    "#sheet name  = 'va el nombre de la hoja a leer'\n",
    "data1=pd.read_excel(ruta,sheet_name='C1',skiprows=4)\n",
    "data2=pd.read_excel(ruta,sheet_name='C2',skiprows=1)\n",
    "data3=pd.read_excel(ruta,sheet_name='C3',skiprows=1)\n",
    "data4=pd.read_excel(ruta,sheet_name='C4-M',skiprows=1)\n",
    "data5=pd.read_excel(ruta,sheet_name='C5',skiprows=1)\n",
    "data6=pd.read_excel(ruta,sheet_name='C6',skiprows=1)\n",
    "data7=pd.read_excel(ruta,sheet_name='C7-J',skiprows=1)\n",
    "data8=pd.read_excel(ruta,sheet_name='C8-N',skiprows=1)\n",
    "data9=pd.read_excel(ruta,sheet_name='C9',skiprows=1)\n",
    "data10=pd.read_excel(ruta,sheet_name='C10',skiprows=1)\n",
    "data11=pd.read_excel(ruta,sheet_name='C11',skiprows=1)"
   ]
  },
  {
   "cell_type": "code",
   "execution_count": null,
   "metadata": {
    "collapsed": true
   },
   "outputs": [],
   "source": [
    "#pd.concat(['']),....\n",
    "#con ese codigo lo que hace es que de cada data frame que hemos creado extraeme solo la columna 'Gen abre'\n",
    "#y asi va concatenando todos los datas frames por fila que contienes cada una de las hojas del excel\n",
    "#reset_index(drop=True) ordena bien los indices\n",
    "data_gen=pd.concat([data1['Gen Abrev'],data2['Gen Abrev'],data3['Gen Abrev'],data4['Gen Abrev'],data5['Gen Abrev'],\n",
    "          data6['Gen Abrev'],data7['Gen Abrev'],data8['Gen Abrev'],data9['Gen Abrev'],data10['Gen Abrev'],\n",
    "          data11['Gen Abrev']],axis=0).reset_index(drop=True)"
   ]
  },
  {
   "cell_type": "code",
   "execution_count": null,
   "metadata": {
    "collapsed": true
   },
   "outputs": [],
   "source": [
    "data_genes=pd.DataFrame({'genes':data_gen}) #lo que concatene lo paso a un data frame"
   ]
  },
  {
   "cell_type": "code",
   "execution_count": null,
   "metadata": {
    "collapsed": true
   },
   "outputs": [],
   "source": [
    "#data_genes.loc[data_genes.genes.duplicated(),:]#lo que hace es  me da la cantidad de valores unicos "
   ]
  },
  {
   "cell_type": "code",
   "execution_count": null,
   "metadata": {
    "collapsed": true
   },
   "outputs": [],
   "source": [
    "#usaremos como path \n",
    "path='https://www.uniprot.org/uniprot/?query=&sort=score'"
   ]
  },
  {
   "cell_type": "code",
   "execution_count": null,
   "metadata": {
    "collapsed": true
   },
   "outputs": [],
   "source": [
    "\n",
    "corte_link=path.split('&')#split corta cadenas\n",
    "corte_link"
   ]
  },
  {
   "cell_type": "markdown",
   "metadata": {},
   "source": [
    "LIMPIEZA DE LOS NOMBRES ABREVIADOS\n",
    "hay nombres abreviados con parentesis,los eliminamos y nos quedamos con el principal por ejemplo:\n",
    "\n",
    "C3H1orf43(c1orf43) ==> C3H1orf43"
   ]
  },
  {
   "cell_type": "code",
   "execution_count": null,
   "metadata": {
    "collapsed": true
   },
   "outputs": [],
   "source": [
    "#lo que hace esque va buscar los que cumplas con la expresion regular requerida los va eliminar y solo \n",
    "#se quedaracon el primer nombre que esta sin parentesis\n",
    "import re\n",
    "data_genes1=data_genes.applymap(lambda x:re.sub('\\(.*?\\)','',x).strip())\n",
    "data_genes1.head()"
   ]
  },
  {
   "cell_type": "code",
   "execution_count": null,
   "metadata": {
    "collapsed": true
   },
   "outputs": [],
   "source": [
    "data_genes1.shape #verificamos cuantos registros tenemos"
   ]
  },
  {
   "cell_type": "code",
   "execution_count": null,
   "metadata": {
    "collapsed": true
   },
   "outputs": [],
   "source": [
    "data_genes1.genes.nunique() #cuanta los genes unicos , que hay en la data  "
   ]
  },
  {
   "cell_type": "code",
   "execution_count": null,
   "metadata": {
    "collapsed": true
   },
   "outputs": [],
   "source": [
    "espacio=data_genes1['genes'].apply(lambda x:x.__contains__(' '))\n",
    "sum(espacio) #CONTARA  DE LOS GENES QUE EN SU NOMBRE HAY ESPACIOS "
   ]
  },
  {
   "cell_type": "code",
   "execution_count": null,
   "metadata": {
    "collapsed": true
   },
   "outputs": [],
   "source": [
    "data_genes2=data_genes1.applymap(lambda x:x.strip().replace(' ',''))"
   ]
  },
  {
   "cell_type": "code",
   "execution_count": null,
   "metadata": {},
   "outputs": [],
   "source": [
    "data_genes2.genes.head() #MUESTRA LO 5 PRIMEROS  "
   ]
  },
  {
   "cell_type": "markdown",
   "metadata": {},
   "source": [
    "**Concatenamos el link con la abreviatura del gen**"
   ]
  },
  {
   "cell_type": "code",
   "execution_count": null,
   "metadata": {},
   "outputs": [],
   "source": [
    "genes_path=data_genes2.applymap(lambda x:corte_link[0]+x+'+bos+taurus&'+corte_link[1])#concatenamos el link segun el patron para hacer el scraping\n",
    "genes_path.head()"
   ]
  },
  {
   "cell_type": "markdown",
   "metadata": {},
   "source": [
    "## **CREAMOS LA PRIMERA FUNCION**"
   ]
  },
  {
   "cell_type": "code",
   "execution_count": null,
   "metadata": {},
   "outputs": [],
   "source": [
    "import gc #importamos la libreria gc para liberar memoria"
   ]
  },
  {
   "cell_type": "code",
   "execution_count": null,
   "metadata": {},
   "outputs": [],
   "source": [
    "def link_page1(data):\n",
    "  lista2=[] #creamos una lista vacia\n",
    "  lista_dat=data.values.tolist() #lo transformamos la data a una lista para hacerlo mas facil con el tolist\n",
    "  for i in tqdm(range(0,len(lista_dat)),total=len(lista_dat)):\n",
    "    try:\n",
    "      p12=requests.get(lista_dat[i]) #para jalar el link para correr cada gen\n",
    "      if p12.status_code==200:\n",
    "        s=BeautifulSoup(p12.text,'lxml') \n",
    "        secciones=s.find('div',attrs={'class':\"main-aside\"}) #empezamos el webscrapeo \n",
    "        secc1=secciones.find('td',attrs={'class':'entryID'}) #escogemos el primer cuadro con el \"td\"\n",
    "    except Exception:\n",
    "      entry,entry_name=None,None # si hay un error de la funcion saldra None \n",
    "\n",
    " #  s=BeautifulSoup(p12.text,'lxml') \n",
    "  #  secciones=s.find('div',attrs={'class':\"main-aside\"})\n",
    "   # secc1=secciones.find('td',attrs={'class':'entryID'})\n",
    "    try :\n",
    " #       hrf='https://www.uniprot.org/'+secc1.a.get('href')\n",
    "        entry=secc1.get_text()                           # con el get_text() jalamos el primer nombre\n",
    "        entry_name=secciones.find('tbody').find_all('td')[2].get_text() # jalamos todo lo que esta dentro del body \n",
    "    except :\n",
    "        entry,entry_name=None,None # si hay un error de la funcion saldra None\n",
    "    lista2.append([entry,entry_name])\n",
    "    gc.collect()\n",
    "  return lista2"
   ]
  },
  {
   "cell_type": "code",
   "execution_count": null,
   "metadata": {},
   "outputs": [],
   "source": [
    "salida=link_page1(genes_path.iloc[84:100,0]) #probamos algunas partes pequeñas para ver si funciona"
   ]
  },
  {
   "cell_type": "code",
   "execution_count": null,
   "metadata": {},
   "outputs": [],
   "source": [
    "salida1=link_page1(genes_path.iloc[90:100,0]) #probamos algunas partes pequeñas para ver si funciona"
   ]
  },
  {
   "cell_type": "markdown",
   "metadata": {},
   "source": [
    "## Pobramos haciendo la funcion por partes \n",
    "Lo probamos por partes para que la funciona funcione de manera eficiente y mi computadora no se reinicie "
   ]
  },
  {
   "cell_type": "code",
   "execution_count": null,
   "metadata": {},
   "outputs": [],
   "source": [
    "salida_total1=link_page1(genes_path.iloc[0:506,0]) #desde la linea 0 hasta la 506"
   ]
  },
  {
   "cell_type": "code",
   "execution_count": null,
   "metadata": {},
   "outputs": [],
   "source": [
    "salida_total2=link_page1(genes_path.iloc[506:1012,0]) #desde la linea 506 hasta la 1012"
   ]
  },
  {
   "cell_type": "code",
   "execution_count": null,
   "metadata": {},
   "outputs": [],
   "source": [
    "salida_total3=link_page1(genes_path.iloc[1012:1518,0]) #desde la linea 1012 hasta la 1518"
   ]
  },
  {
   "cell_type": "code",
   "execution_count": null,
   "metadata": {},
   "outputs": [],
   "source": [
    "salida_total4=link_page1(genes_path.iloc[1518:2024,0]) #desde la linea 1518 hasta la 2024"
   ]
  },
  {
   "cell_type": "code",
   "execution_count": null,
   "metadata": {},
   "outputs": [],
   "source": [
    "salida_total5=link_page1(genes_path.iloc[2024:,0])"
   ]
  },
  {
   "cell_type": "code",
   "execution_count": null,
   "metadata": {},
   "outputs": [],
   "source": [
    "for i in [salida_total2,salida_total3,salida_total4,salida_total5]:\n",
    "  salida_full.extend(i) #unimos todo en una sola lista"
   ]
  },
  {
   "cell_type": "code",
   "execution_count": null,
   "metadata": {},
   "outputs": [],
   "source": [
    "len(salida_full) # vemos si esta toda la data"
   ]
  },
  {
   "cell_type": "code",
   "execution_count": null,
   "metadata": {},
   "outputs": [],
   "source": [
    "data_entry=pd.DataFrame(salida_full,columns=['Entry','Entry Name']) # armamos nuestro data frame"
   ]
  },
  {
   "cell_type": "code",
   "execution_count": null,
   "metadata": {},
   "outputs": [],
   "source": [
    "data_entry.head(10) # los primeros 10 entry y entry name"
   ]
  },
  {
   "cell_type": "code",
   "execution_count": null,
   "metadata": {},
   "outputs": [],
   "source": [
    "data_entry.isnull().sum()#Comprorbamos cuantos valores nulos hay en ddata_entry"
   ]
  },
  {
   "cell_type": "code",
   "execution_count": null,
   "metadata": {},
   "outputs": [],
   "source": [
    "data_entry['link_post']=data_entry['Entry'].apply(lambda x:'https://www.uniprot.org/uniprot/'+x if x!=None else None) #Se concatena el nombre de entry en a la variable link_post "
   ]
  },
  {
   "cell_type": "code",
   "execution_count": null,
   "metadata": {},
   "outputs": [],
   "source": [
    "data_entry.head()#Revisamos los encabezados de entry"
   ]
  },
  {
   "cell_type": "code",
   "execution_count": null,
   "metadata": {},
   "outputs": [],
   "source": [
    "data_concat_genes=pd.concat([data_genes2['genes'],data_entry],axis=1)#Conactenamos las cadenas de los names de data_genes2 e la etiqueta genes con data entry"
   ]
  },
  {
   "cell_type": "code",
   "execution_count": null,
   "metadata": {},
   "outputs": [],
   "source": [
    "data_concat_genes.head()# vemos los encabezados resultado de las cadenas concatenadas"
   ]
  },
  {
   "cell_type": "code",
   "execution_count": null,
   "metadata": {},
   "outputs": [],
   "source": [
    "data_entry.to_csv('data_entry.csv',header=True,index=None)#Se abre un csv con el nombre data_entry"
   ]
  },
  {
   "cell_type": "code",
   "execution_count": null,
   "metadata": {},
   "outputs": [],
   "source": [
    "data_concat_genes.to_csv('data_concat_genes.csv',header=True,index=None)#Se abre un CSV para alamaccnar los datos que nos piden de genes"
   ]
  }
 ],
 "metadata": {
  "kernelspec": {
   "display_name": "Python 3",
   "language": "python",
   "name": "python3"
  },
  "language_info": {
   "codemirror_mode": {
    "name": "ipython",
    "version": 3
   },
   "file_extension": ".py",
   "mimetype": "text/x-python",
   "name": "python",
   "nbconvert_exporter": "python",
   "pygments_lexer": "ipython3",
   "version": "3.8.5"
  }
 },
 "nbformat": 4,
 "nbformat_minor": 5
}
