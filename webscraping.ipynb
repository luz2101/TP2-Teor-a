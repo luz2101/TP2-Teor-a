{
 "cells": [
  {
   "cell_type": "markdown",
   "id": "de12df8f",
   "metadata": {},
   "source": [
    "###### Trabajo relaizado en google colab , aprovechando su rapidez a la hora de ejecutar los codigos  de el webscrapeo"
   ]
  },
  {
   "cell_type": "code",
   "execution_count": null,
   "id": "d34eb63b",
   "metadata": {
    "collapsed": true
   },
   "outputs": [],
   "source": [
    "# !pip install google.colab "
   ]
  },
  {
   "cell_type": "code",
   "execution_count": null,
   "id": "fef7d4bc",
   "metadata": {
    "collapsed": true
   },
   "outputs": [],
   "source": [
    "from google.colab import drive  #importamos esta libreria que conecta el drive con el colab"
   ]
  },
  {
   "cell_type": "markdown",
   "id": "4a217acd",
   "metadata": {},
   "source": [
    "El siguiente codigo es una especie  de permiso de acceder a nuestro drive para que haga uso de nuestros archivos\n",
    "pasos para acceder al drive  \n",
    "1-AL correr el codigo aparecera una ventana donde espera que coloquemos un permiso para continuar \n",
    "2 darle click al enlace que aparece \n",
    "3-selecionar la direcion de correo electronico que se usara para acceder al drive \n",
    "4-automaticamente nos saldra un enlace copiar y pegar en la ventana que aparece cuando corrimos el codigo\n"
   ]
  },
  {
   "cell_type": "code",
   "execution_count": null,
   "id": "17c28df3",
   "metadata": {
    "collapsed": true
   },
   "outputs": [],
   "source": [
    "drive.mount('/content/drive')  "
   ]
  },
  {
   "cell_type": "code",
   "execution_count": null,
   "id": "07f1b859",
   "metadata": {
    "collapsed": true
   },
   "outputs": [],
   "source": [
    "from bs4 import BeautifulSoup #importamos la libreria que nos ayudara con la extraccion de datos de la pagina unitprotein\n",
    "import requests \n",
    "import pandas as pd #para el manejo de data frame\n",
    "import numpy as np \n",
    "from tqdm.notebook import tqdm_notebook as tqdm #importamos esta libreria nueva para medir,validar el rrecorrido de la extraccion "
   ]
  },
  {
   "cell_type": "code",
   "execution_count": null,
   "id": "3c4f0bc6",
   "metadata": {
    "collapsed": true
   },
   "outputs": [],
   "source": [
    "ruta='/content/drive/MyDrive/webs/Genes identificados con vecinos.xlsx' #leo el archivo donde estan todos los genees"
   ]
  },
  {
   "cell_type": "code",
   "execution_count": null,
   "id": "f1f29393",
   "metadata": {
    "collapsed": true
   },
   "outputs": [],
   "source": [
    "#lee todas las hojas del excel que colocamos en un data frame por separado\n",
    "#sheet name  = 'va el nombre de la hoja a leer'\n",
    "data1=pd.read_excel(ruta,sheet_name='C1',skiprows=4)\n",
    "data2=pd.read_excel(ruta,sheet_name='C2',skiprows=1)\n",
    "data3=pd.read_excel(ruta,sheet_name='C3',skiprows=1)\n",
    "data4=pd.read_excel(ruta,sheet_name='C4-M',skiprows=1)\n",
    "data5=pd.read_excel(ruta,sheet_name='C5',skiprows=1)\n",
    "data6=pd.read_excel(ruta,sheet_name='C6',skiprows=1)\n",
    "data7=pd.read_excel(ruta,sheet_name='C7-J',skiprows=1)\n",
    "data8=pd.read_excel(ruta,sheet_name='C8-N',skiprows=1)\n",
    "data9=pd.read_excel(ruta,sheet_name='C9',skiprows=1)\n",
    "data10=pd.read_excel(ruta,sheet_name='C10',skiprows=1)\n",
    "data11=pd.read_excel(ruta,sheet_name='C11',skiprows=1)"
   ]
  },
  {
   "cell_type": "code",
   "execution_count": null,
   "id": "9d3b6b9d",
   "metadata": {
    "collapsed": true
   },
   "outputs": [],
   "source": [
    "#pd.concat(['']),....\n",
    "#con ese codigo lo que hace es que de cada data frame que hemos creado extraeme solo la columna 'Gen abre'\n",
    "#y asi va concatenando todos los datas frames por fila que contienes cada una de las hojas del excel\n",
    "#reset_index(drop=True) ordena bien los indices\n",
    "data_gen=pd.concat([data1['Gen Abrev'],data2['Gen Abrev'],data3['Gen Abrev'],data4['Gen Abrev'],data5['Gen Abrev'],\n",
    "          data6['Gen Abrev'],data7['Gen Abrev'],data8['Gen Abrev'],data9['Gen Abrev'],data10['Gen Abrev'],\n",
    "          data11['Gen Abrev']],axis=0).reset_index(drop=True)"
   ]
  },
  {
   "cell_type": "code",
   "execution_count": null,
   "id": "91c76a7e",
   "metadata": {
    "collapsed": true
   },
   "outputs": [],
   "source": [
    "data_genes=pd.DataFrame({'genes':data_gen}) #lo que concatene lo paso a un data frame"
   ]
  },
  {
   "cell_type": "code",
   "execution_count": null,
   "id": "977dddc8",
   "metadata": {
    "collapsed": true
   },
   "outputs": [],
   "source": [
    "#data_genes.loc[data_genes.genes.duplicated(),:]#lo que hace es  me da la cantidad de valores unicos "
   ]
  },
  {
   "cell_type": "code",
   "execution_count": null,
   "id": "87bc3899",
   "metadata": {
    "collapsed": true
   },
   "outputs": [],
   "source": [
    "#usaremos como path \n",
    "path='https://www.uniprot.org/uniprot/?query=&sort=score'"
   ]
  },
  {
   "cell_type": "code",
   "execution_count": null,
   "id": "0e8d48d1",
   "metadata": {
    "collapsed": true
   },
   "outputs": [],
   "source": [
    "\n",
    "corte_link=path.split('&')#split corta cadenas\n",
    "corte_link"
   ]
  },
  {
   "cell_type": "markdown",
   "id": "5d66b2c9",
   "metadata": {},
   "source": [
    "LIMPIEZA DE LOS NOMBRES ABREVIADOS\n",
    "hay nombres abreviados con parentesis,los eliminamos y nos quedamos con el principal por ejemplo:\n",
    "\n",
    "C3H1orf43(c1orf43) ==> C3H1orf43"
   ]
  },
  {
   "cell_type": "code",
   "execution_count": null,
   "id": "e5d94aa4",
   "metadata": {
    "collapsed": true
   },
   "outputs": [],
   "source": [
    "#lo que hace esque va buscar los que cumplas con la expresion regular requerida los va eliminar y solo \n",
    "#se quedaracon el primer nombre que esta sin parentesis\n",
    "import re\n",
    "data_genes1=data_genes.applymap(lambda x:re.sub('\\(.*?\\)','',x).strip())\n",
    "data_genes1.head()"
   ]
  },
  {
   "cell_type": "code",
   "execution_count": null,
   "id": "5072597b",
   "metadata": {
    "collapsed": true
   },
   "outputs": [],
   "source": [
    "data_genes1.shape #verificamos cuantos registros tenemos"
   ]
  },
  {
   "cell_type": "code",
   "execution_count": null,
   "id": "5f4771dd",
   "metadata": {
    "collapsed": true
   },
   "outputs": [],
   "source": [
    "data_genes1.genes.nunique() #cuanta los genes unicos , que hay en la data  "
   ]
  },
  {
   "cell_type": "code",
   "execution_count": null,
   "id": "7b380d71",
   "metadata": {
    "collapsed": true
   },
   "outputs": [],
   "source": [
    "espacio=data_genes1['genes'].apply(lambda x:x.__contains__(' '))\n",
    "sum(espacio) #CONTARA  DE LOS GENES QUE EN SU NOMBRE HAY ESPACIOS "
   ]
  },
  {
   "cell_type": "code",
   "execution_count": null,
   "id": "6bbb27c6",
   "metadata": {
    "collapsed": true
   },
   "outputs": [],
   "source": [
    "data_genes2=data_genes1.applymap(lambda x:x.strip().replace(' ',''))"
   ]
  },
  {
   "cell_type": "code",
   "execution_count": null,
   "id": "7c66d452",
   "metadata": {
    "collapsed": true
   },
   "outputs": [],
   "source": [
    "data_genes2.genes.head() #MUESTRA LO 5 PRIMEROS  "
   ]
  },
  {
   "cell_type": "code",
   "execution_count": null,
   "id": "973f599d",
   "metadata": {
    "collapsed": true
   },
   "outputs": [],
   "source": []
  }
 ],
 "metadata": {
  "kernelspec": {
   "display_name": "Python 3",
   "language": "python",
   "name": "python3"
  }
 },
 "nbformat": 4,
 "nbformat_minor": 5
}
