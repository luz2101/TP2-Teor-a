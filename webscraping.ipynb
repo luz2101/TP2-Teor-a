{
 "cells": [
  {
   "cell_type": "markdown",
   "id": "81f96015",
   "metadata": {},
   "source": [
    "###### Trabajo relaizado en google colab , aprovechando su rapidez a la hora de ejecutar los codigos  de el webscrapeo"
   ]
  },
  {
   "cell_type": "code",
   "execution_count": null,
   "id": "171fdbcd",
   "metadata": {
    "collapsed": true
   },
   "outputs": [],
   "source": [
    "# !pip install google.colab "
   ]
  },
  {
   "cell_type": "code",
   "execution_count": null,
   "id": "5fa31a58",
   "metadata": {
    "collapsed": true
   },
   "outputs": [],
   "source": [
    "from google.colab import drive  #importamos esta libreria que conecta el drive con el colab"
   ]
  },
  {
   "cell_type": "markdown",
   "id": "7486e327",
   "metadata": {},
   "source": [
    "El siguiente codigo es una especie  de permiso de acceder a nuestro drive para que haga uso de nuestros archivos\n",
    "pasos para acceder al drive  \n",
    "1-AL correr el codigo aparecera una ventana donde espera que coloquemos un permiso para continuar \n",
    "2 darle click al enlace que aparece \n",
    "3-selecionar la direcion de correo electronico que se usara para acceder al drive \n",
    "4-automaticamente nos saldra un enlace copiar y pegar en la ventana que aparece cuando corrimos el codigo\n"
   ]
  },
  {
   "cell_type": "code",
   "execution_count": null,
   "id": "9c555e3c",
   "metadata": {
    "collapsed": true
   },
   "outputs": [],
   "source": [
    "drive.mount('/content/drive')  "
   ]
  },
  {
   "cell_type": "code",
   "execution_count": null,
   "id": "b11499cc",
   "metadata": {
    "collapsed": true
   },
   "outputs": [],
   "source": [
    "from bs4 import BeautifulSoup #importamos la libreria que nos ayudara con la extraccion de datos de la pagina unitprotein\n",
    "import requests \n",
    "import pandas as pd #para el manejo de data frame\n",
    "import numpy as np \n",
    "from tqdm.notebook import tqdm_notebook as tqdm #importamos esta libreria nueva para medir,validar el rrecorrido de la extraccion "
   ]
  },
  {
   "cell_type": "code",
   "execution_count": null,
   "id": "f4b19066",
   "metadata": {
    "collapsed": true
   },
   "outputs": [],
   "source": [
    "ruta='/content/drive/MyDrive/webs/Genes identificados con vecinos.xlsx' #leo el archivo donde estan todos los genees"
   ]
  },
  {
   "cell_type": "code",
   "execution_count": null,
   "id": "e636d114",
   "metadata": {
    "collapsed": true
   },
   "outputs": [],
   "source": []
  }
 ],
 "metadata": {
  "kernelspec": {
   "display_name": "Python 3",
   "language": "python",
   "name": "python3"
  }
 },
 "nbformat": 4,
 "nbformat_minor": 5
}
